{
 "cells": [
  {
   "cell_type": "markdown",
   "metadata": {},
   "source": [
    "Chapter2 : For loops"
   ]
  },
  {
   "cell_type": "code",
   "execution_count": 2,
   "metadata": {},
   "outputs": [
    {
     "name": "stdout",
     "output_type": "stream",
     "text": [
      "0\n",
      "1\n",
      "2\n",
      "3\n",
      "4\n",
      "5\n",
      "6\n",
      "7\n",
      "8\n",
      "9\n"
     ]
    }
   ],
   "source": [
    "for i in range(10):\n",
    "    print(i)"
   ]
  },
  {
   "cell_type": "code",
   "execution_count": 4,
   "metadata": {},
   "outputs": [
    {
     "name": "stdout",
     "output_type": "stream",
     "text": [
      "1 -- Hello\n",
      "2 -- Hello\n",
      "3 -- Hello\n"
     ]
    }
   ],
   "source": [
    "for i in range(3):\n",
    "    print(i+1, '-- Hello')"
   ]
  },
  {
   "cell_type": "code",
   "execution_count": null,
   "metadata": {},
   "outputs": [],
   "source": [
    "range(10)           0,1,2,3,4,5,6,7,8,9\n",
    "range(1,10)         1,2,3,4,5,6,7,8,9\n",
    "range(3,7)          3,4,5,6\n",
    "range(2,15,3)       2,5,8,11,14\n",
    "range(9,2,-1)       9,8,7,6,5,4,3\n",
    "#range skips the last number always even in reverse order "
   ]
  },
  {
   "cell_type": "code",
   "execution_count": 6,
   "metadata": {},
   "outputs": [
    {
     "name": "stdout",
     "output_type": "stream",
     "text": [
      "5 4 3 2 1 Blast off!!\n"
     ]
    }
   ],
   "source": [
    "for i in range(5,0,-1):\n",
    "    print(i, end=' ')\n",
    "print('Blast off!!')"
   ]
  },
  {
   "cell_type": "code",
   "execution_count": 13,
   "metadata": {},
   "outputs": [
    {
     "name": "stdout",
     "output_type": "stream",
     "text": [
      "******\n",
      "******\n",
      "******\n",
      "******\n",
      "*\n",
      "**\n",
      "***\n",
      "****\n"
     ]
    }
   ],
   "source": [
    "for i in range(4):\n",
    "    print('*'*6)\n",
    "for i in range(4):\n",
    "    print('*'*(i+1)) #i starts from 0"
   ]
  },
  {
   "cell_type": "code",
   "execution_count": 16,
   "metadata": {},
   "outputs": [
    {
     "name": "stdout",
     "output_type": "stream",
     "text": [
      "    *\n",
      "   ***\n",
      "  *****\n",
      " *******\n",
      "*********\n",
      " *******\n",
      "  *****\n",
      "   ***\n",
      "    *\n"
     ]
    }
   ],
   "source": [
    "height = 5\n",
    "for i in range(height):\n",
    "        # Print leading spaces\n",
    "        for j in range(height - i - 1):\n",
    "            print(\" \", end=\"\")\n",
    "        # Print asterisks\n",
    "        for k in range(2 * i + 1):\n",
    "            print(\"*\", end=\"\")\n",
    "        # Move to the next line\n",
    "        print() #print() is used to print a newline character\n",
    "    # Lower half excluding the middle row\n",
    "for i in range(height - 2, -1, -1):\n",
    "    # Print leading spaces\n",
    "    for j in range(height - i - 1):\n",
    "        print(\" \", end=\"\")\n",
    "        # Print asterisks\n",
    "    for k in range(2 * i + 1):\n",
    "        print(\"*\", end=\"\")\n",
    "    print()"
   ]
  }
 ],
 "metadata": {
  "kernelspec": {
   "display_name": "Python 3",
   "language": "python",
   "name": "python3"
  },
  "language_info": {
   "codemirror_mode": {
    "name": "ipython",
    "version": 3
   },
   "file_extension": ".py",
   "mimetype": "text/x-python",
   "name": "python",
   "nbconvert_exporter": "python",
   "pygments_lexer": "ipython3",
   "version": "3.12.4"
  }
 },
 "nbformat": 4,
 "nbformat_minor": 2
}
