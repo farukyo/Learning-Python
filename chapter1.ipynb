{
 "cells": [
  {
   "cell_type": "markdown",
   "metadata": {},
   "source": [
    "Chapter 1: Basics"
   ]
  },
  {
   "cell_type": "code",
   "execution_count": 6,
   "metadata": {},
   "outputs": [
    {
     "name": "stdout",
     "output_type": "stream",
     "text": [
      "In Fahrenheit, that is 122.0\n",
      "In Fahrenheit, that is 122.0\n"
     ]
    }
   ],
   "source": [
    "temp = eval(input('Enter a temperature in Celsius: '))\n",
    "print('In Fahrenheit, that is', 9/5*temp+32)\n",
    "# input takes a string and eval evaluates it as a python expression\n",
    "# eval turns the string into a number \n",
    "print('In Fahrenheit, that is', 9/5*temp+32)\n",
    "# commas are used to separate arguments in a print statement with *spaces*"
   ]
  },
  {
   "cell_type": "code",
   "execution_count": 7,
   "metadata": {},
   "outputs": [
    {
     "name": "stdout",
     "output_type": "stream",
     "text": [
      "The value of 3+4 is 7 .\n",
      "The value of 3+4 is 7.\n",
      "On the first line\n",
      "On the second line\n",
      "On the first lineOn the second line\n"
     ]
    }
   ],
   "source": [
    "print ('The value of 3+4 is', 3+4, '.')\n",
    "print ('The value of 3+4 is ', 3+4, '.', sep='')\n",
    "# sep='' removes the space between the arguments in the print statement\n",
    "\n",
    "print('On the first line')\n",
    "print('On the second line')\n",
    "\n",
    "print('On the first line', end='')\n",
    "print('On the second line')\n",
    "#end is used to replace default newline character"
   ]
  },
  {
   "cell_type": "code",
   "execution_count": 8,
   "metadata": {},
   "outputs": [
    {
     "name": "stdout",
     "output_type": "stream",
     "text": [
      "25\n"
     ]
    }
   ],
   "source": [
    "x = 5\n",
    "print(5*x)"
   ]
  }
 ],
 "metadata": {
  "kernelspec": {
   "display_name": "Python 3",
   "language": "python",
   "name": "python3"
  },
  "language_info": {
   "codemirror_mode": {
    "name": "ipython",
    "version": 3
   },
   "file_extension": ".py",
   "mimetype": "text/x-python",
   "name": "python",
   "nbconvert_exporter": "python",
   "pygments_lexer": "ipython3",
   "version": "3.12.4"
  }
 },
 "nbformat": 4,
 "nbformat_minor": 2
}
